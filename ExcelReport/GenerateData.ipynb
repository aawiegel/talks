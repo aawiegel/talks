{
 "cells": [
  {
   "cell_type": "markdown",
   "metadata": {},
   "source": [
    "# Generate simulated data for Excel report"
   ]
  },
  {
   "cell_type": "code",
   "execution_count": 1,
   "metadata": {},
   "outputs": [],
   "source": [
    "import pandas as pd\n",
    "import numpy as np\n",
    "import os\n",
    "import matplotlib.pyplot as plt\n",
    "from collections import OrderedDict\n",
    "\n",
    "%matplotlib inline\n",
    "np.random.seed(42)"
   ]
  },
  {
   "cell_type": "code",
   "execution_count": 2,
   "metadata": {},
   "outputs": [],
   "source": [
    "lot_ids = np.arange(0, 1001, 1)"
   ]
  },
  {
   "cell_type": "code",
   "execution_count": 3,
   "metadata": {},
   "outputs": [],
   "source": [
    "sales_ids = np.arange(0, 201, 1)"
   ]
  },
  {
   "cell_type": "code",
   "execution_count": 4,
   "metadata": {},
   "outputs": [],
   "source": [
    "base_date = np.datetime64('2018-01-07').astype('datetime64[s]').astype(int)\n",
    "random_dates = base_date + (np.random.uniform(0, 180, size=10000)*24*3600).astype(int)\n",
    "random_dates = random_dates.astype('datetime64[s]')"
   ]
  },
  {
   "cell_type": "code",
   "execution_count": 5,
   "metadata": {},
   "outputs": [],
   "source": [
    "random_dates.sort()"
   ]
  },
  {
   "cell_type": "code",
   "execution_count": 6,
   "metadata": {},
   "outputs": [
    {
     "data": {
      "text/plain": [
       "array(['2018-01-07T00:03:00', '2018-01-07T00:07:57',\n",
       "       '2018-01-07T00:13:41', ..., '2018-07-05T21:51:44',\n",
       "       '2018-07-05T22:05:21', '2018-07-05T22:46:49'],\n",
       "      dtype='datetime64[s]')"
      ]
     },
     "execution_count": 6,
     "metadata": {},
     "output_type": "execute_result"
    }
   ],
   "source": [
    "random_dates"
   ]
  },
  {
   "cell_type": "code",
   "execution_count": 7,
   "metadata": {},
   "outputs": [],
   "source": [
    "sales_ids = np.arange(1, len(random_dates) + 1, 1)"
   ]
  },
  {
   "cell_type": "code",
   "execution_count": 8,
   "metadata": {},
   "outputs": [],
   "source": [
    "remakes = np.random.poisson(lam=1.25, size=len(random_dates)//2) + 1"
   ]
  },
  {
   "cell_type": "code",
   "execution_count": 9,
   "metadata": {},
   "outputs": [],
   "source": [
    "remakes = np.append(remakes, np.random.poisson(lam=0.5, size=len(random_dates)//2) + 1)"
   ]
  },
  {
   "cell_type": "code",
   "execution_count": 10,
   "metadata": {},
   "outputs": [],
   "source": [
    "lead_times = np.random.standard_normal(len(random_dates))*3600 + 5*3600"
   ]
  },
  {
   "cell_type": "code",
   "execution_count": 11,
   "metadata": {},
   "outputs": [
    {
     "data": {
      "text/plain": [
       "0"
      ]
     },
     "execution_count": 11,
     "metadata": {},
     "output_type": "execute_result"
    }
   ],
   "source": [
    "(lead_times < 0).sum()"
   ]
  },
  {
   "cell_type": "code",
   "execution_count": 12,
   "metadata": {},
   "outputs": [],
   "source": [
    "lead_times = random_dates + lead_times.astype(int)"
   ]
  },
  {
   "cell_type": "code",
   "execution_count": 13,
   "metadata": {},
   "outputs": [],
   "source": [
    "manufacturing_time = ((np.random.standard_normal(len(random_dates)) * 3600 * 8 + 50 * 3600) * (remakes * 0.67)).astype(int)"
   ]
  },
  {
   "cell_type": "code",
   "execution_count": 14,
   "metadata": {},
   "outputs": [],
   "source": [
    "manufacturing_time = lead_times + manufacturing_time"
   ]
  },
  {
   "cell_type": "code",
   "execution_count": 15,
   "metadata": {},
   "outputs": [],
   "source": [
    "shipping_time = (np.random.standard_normal(len(random_dates)) * 3600*2 + 15 * 3600).astype(int)"
   ]
  },
  {
   "cell_type": "code",
   "execution_count": 16,
   "metadata": {},
   "outputs": [],
   "source": [
    "shipping_time = shipping_time + manufacturing_time"
   ]
  },
  {
   "cell_type": "code",
   "execution_count": 17,
   "metadata": {},
   "outputs": [
    {
     "data": {
      "text/plain": [
       "array(['2018-01-10T04:13:02', '2018-01-09T03:44:39',\n",
       "       '2018-01-12T12:06:08', '2018-01-09T06:31:29',\n",
       "       '2018-01-12T21:24:42'], dtype='datetime64[s]')"
      ]
     },
     "execution_count": 17,
     "metadata": {},
     "output_type": "execute_result"
    }
   ],
   "source": [
    "shipping_time[:5]"
   ]
  },
  {
   "cell_type": "code",
   "execution_count": 18,
   "metadata": {},
   "outputs": [],
   "source": [
    "pass_rate = 1 / remakes"
   ]
  },
  {
   "cell_type": "code",
   "execution_count": 19,
   "metadata": {},
   "outputs": [
    {
     "data": {
      "text/plain": [
       "(array([ 224.,  544., 1472.,    0., 3315.,    0.,    0.,    0.,    0.,\n",
       "        4445.]),\n",
       " array([0.125 , 0.2125, 0.3   , 0.3875, 0.475 , 0.5625, 0.65  , 0.7375,\n",
       "        0.825 , 0.9125, 1.    ]),\n",
       " <a list of 10 Patch objects>)"
      ]
     },
     "execution_count": 19,
     "metadata": {},
     "output_type": "execute_result"
    },
    {
     "data": {
      "image/png": "[encoded data removed]",
      "text/plain": [
       "<Figure size 432x288 with 1 Axes>"
      ]
     },
     "metadata": {},
     "output_type": "display_data"
    }
   ],
   "source": [
    "plt.hist(pass_rate)"
   ]
  },
  {
   "cell_type": "code",
   "execution_count": 20,
   "metadata": {},
   "outputs": [],
   "source": [
    "data = OrderedDict([\n",
    "    ('sales_order_id', sales_ids),\n",
    "    ('sales_order_datetime', random_dates),\n",
    "    ('manufacturing_start_datetime', lead_times),\n",
    "    ('manufacturing_completed_datetime', manufacturing_time),\n",
    "    ('shipped_datetime', shipping_time),\n",
    "    ('attempts', remakes),\n",
    "    ('pass_rate', pass_rate)\n",
    "])\n",
    "df = pd.DataFrame(data)"
   ]
  },
  {
   "cell_type": "code",
   "execution_count": 21,
   "metadata": {},
   "outputs": [
    {
     "data": {
      "text/html": [
       "<div>\n",
       "<style scoped>\n",
       "    .dataframe tbody tr th:only-of-type {\n",
       "        vertical-align: middle;\n",
       "    }\n",
       "\n",
       "    .dataframe tbody tr th {\n",
       "        vertical-align: top;\n",
       "    }\n",
       "\n",
       "    .dataframe thead th {\n",
       "        text-align: right;\n",
       "    }\n",
       "</style>\n",
       "<table border=\"1\" class=\"dataframe\">\n",
       "  <thead>\n",
       "    <tr style=\"text-align: right;\">\n",
       "      <th></th>\n",
       "      <th>sales_order_id</th>\n",
       "      <th>sales_order_datetime</th>\n",
       "      <th>manufacturing_start_datetime</th>\n",
       "      <th>manufacturing_completed_datetime</th>\n",
       "      <th>shipped_datetime</th>\n",
       "      <th>attempts</th>\n",
       "      <th>pass_rate</th>\n",
       "    </tr>\n",
       "  </thead>\n",
       "  <tbody>\n",
       "    <tr>\n",
       "      <th>0</th>\n",
       "      <td>1</td>\n",
       "      <td>2018-01-07 00:03:00</td>\n",
       "      <td>2018-01-07 04:09:22</td>\n",
       "      <td>2018-01-09 11:38:29</td>\n",
       "      <td>2018-01-10 04:13:02</td>\n",
       "      <td>2</td>\n",
       "      <td>0.500000</td>\n",
       "    </tr>\n",
       "    <tr>\n",
       "      <th>1</th>\n",
       "      <td>2</td>\n",
       "      <td>2018-01-07 00:07:57</td>\n",
       "      <td>2018-01-07 03:58:25</td>\n",
       "      <td>2018-01-08 10:39:03</td>\n",
       "      <td>2018-01-09 03:44:39</td>\n",
       "      <td>1</td>\n",
       "      <td>1.000000</td>\n",
       "    </tr>\n",
       "    <tr>\n",
       "      <th>2</th>\n",
       "      <td>3</td>\n",
       "      <td>2018-01-07 00:13:41</td>\n",
       "      <td>2018-01-07 06:44:16</td>\n",
       "      <td>2018-01-11 22:30:43</td>\n",
       "      <td>2018-01-12 12:06:08</td>\n",
       "      <td>3</td>\n",
       "      <td>0.333333</td>\n",
       "    </tr>\n",
       "    <tr>\n",
       "      <th>3</th>\n",
       "      <td>4</td>\n",
       "      <td>2018-01-07 00:34:54</td>\n",
       "      <td>2018-01-07 05:50:40</td>\n",
       "      <td>2018-01-08 17:26:05</td>\n",
       "      <td>2018-01-09 06:31:29</td>\n",
       "      <td>1</td>\n",
       "      <td>1.000000</td>\n",
       "    </tr>\n",
       "    <tr>\n",
       "      <th>4</th>\n",
       "      <td>5</td>\n",
       "      <td>2018-01-07 00:58:50</td>\n",
       "      <td>2018-01-07 06:33:56</td>\n",
       "      <td>2018-01-12 05:32:17</td>\n",
       "      <td>2018-01-12 21:24:42</td>\n",
       "      <td>5</td>\n",
       "      <td>0.200000</td>\n",
       "    </tr>\n",
       "  </tbody>\n",
       "</table>\n",
       "</div>"
      ],
      "text/plain": [
       "   sales_order_id sales_order_datetime manufacturing_start_datetime  \\\n",
       "0               1  2018-01-07 00:03:00          2018-01-07 04:09:22   \n",
       "1               2  2018-01-07 00:07:57          2018-01-07 03:58:25   \n",
       "2               3  2018-01-07 00:13:41          2018-01-07 06:44:16   \n",
       "3               4  2018-01-07 00:34:54          2018-01-07 05:50:40   \n",
       "4               5  2018-01-07 00:58:50          2018-01-07 06:33:56   \n",
       "\n",
       "  manufacturing_completed_datetime    shipped_datetime  attempts  pass_rate  \n",
       "0              2018-01-09 11:38:29 2018-01-10 04:13:02         2   0.500000  \n",
       "1              2018-01-08 10:39:03 2018-01-09 03:44:39         1   1.000000  \n",
       "2              2018-01-11 22:30:43 2018-01-12 12:06:08         3   0.333333  \n",
       "3              2018-01-08 17:26:05 2018-01-09 06:31:29         1   1.000000  \n",
       "4              2018-01-12 05:32:17 2018-01-12 21:24:42         5   0.200000  "
      ]
     },
     "execution_count": 21,
     "metadata": {},
     "output_type": "execute_result"
    }
   ],
   "source": [
    "df.head()"
   ]
  },
  {
   "cell_type": "code",
   "execution_count": 22,
   "metadata": {},
   "outputs": [
    {
     "data": {
      "text/html": [
       "<div>\n",
       "<style scoped>\n",
       "    .dataframe tbody tr th:only-of-type {\n",
       "        vertical-align: middle;\n",
       "    }\n",
       "\n",
       "    .dataframe tbody tr th {\n",
       "        vertical-align: top;\n",
       "    }\n",
       "\n",
       "    .dataframe thead th {\n",
       "        text-align: right;\n",
       "    }\n",
       "</style>\n",
       "<table border=\"1\" class=\"dataframe\">\n",
       "  <thead>\n",
       "    <tr style=\"text-align: right;\">\n",
       "      <th></th>\n",
       "      <th>sales_order_id</th>\n",
       "      <th>sales_order_datetime</th>\n",
       "      <th>manufacturing_start_datetime</th>\n",
       "      <th>manufacturing_completed_datetime</th>\n",
       "      <th>shipped_datetime</th>\n",
       "      <th>attempts</th>\n",
       "      <th>pass_rate</th>\n",
       "    </tr>\n",
       "  </thead>\n",
       "  <tbody>\n",
       "    <tr>\n",
       "      <th>9995</th>\n",
       "      <td>9996</td>\n",
       "      <td>2018-07-05 21:28:02</td>\n",
       "      <td>2018-07-06 04:34:56</td>\n",
       "      <td>2018-07-07 08:46:19</td>\n",
       "      <td>2018-07-07 22:30:55</td>\n",
       "      <td>1</td>\n",
       "      <td>1.0</td>\n",
       "    </tr>\n",
       "    <tr>\n",
       "      <th>9996</th>\n",
       "      <td>9997</td>\n",
       "      <td>2018-07-05 21:40:12</td>\n",
       "      <td>2018-07-06 02:17:43</td>\n",
       "      <td>2018-07-07 12:37:38</td>\n",
       "      <td>2018-07-08 07:11:30</td>\n",
       "      <td>1</td>\n",
       "      <td>1.0</td>\n",
       "    </tr>\n",
       "    <tr>\n",
       "      <th>9997</th>\n",
       "      <td>9998</td>\n",
       "      <td>2018-07-05 21:51:44</td>\n",
       "      <td>2018-07-06 02:35:17</td>\n",
       "      <td>2018-07-07 11:14:59</td>\n",
       "      <td>2018-07-08 01:51:42</td>\n",
       "      <td>1</td>\n",
       "      <td>1.0</td>\n",
       "    </tr>\n",
       "    <tr>\n",
       "      <th>9998</th>\n",
       "      <td>9999</td>\n",
       "      <td>2018-07-05 22:05:21</td>\n",
       "      <td>2018-07-06 02:03:36</td>\n",
       "      <td>2018-07-07 17:46:09</td>\n",
       "      <td>2018-07-08 06:16:54</td>\n",
       "      <td>1</td>\n",
       "      <td>1.0</td>\n",
       "    </tr>\n",
       "    <tr>\n",
       "      <th>9999</th>\n",
       "      <td>10000</td>\n",
       "      <td>2018-07-05 22:46:49</td>\n",
       "      <td>2018-07-06 03:53:53</td>\n",
       "      <td>2018-07-07 21:00:28</td>\n",
       "      <td>2018-07-08 13:20:53</td>\n",
       "      <td>1</td>\n",
       "      <td>1.0</td>\n",
       "    </tr>\n",
       "  </tbody>\n",
       "</table>\n",
       "</div>"
      ],
      "text/plain": [
       "      sales_order_id sales_order_datetime manufacturing_start_datetime  \\\n",
       "9995            9996  2018-07-05 21:28:02          2018-07-06 04:34:56   \n",
       "9996            9997  2018-07-05 21:40:12          2018-07-06 02:17:43   \n",
       "9997            9998  2018-07-05 21:51:44          2018-07-06 02:35:17   \n",
       "9998            9999  2018-07-05 22:05:21          2018-07-06 02:03:36   \n",
       "9999           10000  2018-07-05 22:46:49          2018-07-06 03:53:53   \n",
       "\n",
       "     manufacturing_completed_datetime    shipped_datetime  attempts  pass_rate  \n",
       "9995              2018-07-07 08:46:19 2018-07-07 22:30:55         1        1.0  \n",
       "9996              2018-07-07 12:37:38 2018-07-08 07:11:30         1        1.0  \n",
       "9997              2018-07-07 11:14:59 2018-07-08 01:51:42         1        1.0  \n",
       "9998              2018-07-07 17:46:09 2018-07-08 06:16:54         1        1.0  \n",
       "9999              2018-07-07 21:00:28 2018-07-08 13:20:53         1        1.0  "
      ]
     },
     "execution_count": 22,
     "metadata": {},
     "output_type": "execute_result"
    }
   ],
   "source": [
    "df.tail()"
   ]
  },
  {
   "cell_type": "code",
   "execution_count": 23,
   "metadata": {},
   "outputs": [],
   "source": [
    "df.to_csv('manufacturing_data.csv', index=False)"
   ]
  },
  {
   "cell_type": "code",
   "execution_count": null,
   "metadata": {},
   "outputs": [],
   "source": []
  },
  {
   "cell_type": "code",
   "execution_count": null,
   "metadata": {},
   "outputs": [],
   "source": []
  }
 ],
 "metadata": {
  "kernelspec": {
   "display_name": "Python 3",
   "language": "python",
   "name": "python3"
  },
  "language_info": {
   "codemirror_mode": {
    "name": "ipython",
    "version": 3
   },
   "file_extension": ".py",
   "mimetype": "text/x-python",
   "name": "python",
   "nbconvert_exporter": "python",
   "pygments_lexer": "ipython3",
   "version": "3.6.6"
  }
 },
 "nbformat": 4,
 "nbformat_minor": 2
}
