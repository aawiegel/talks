{
 "cells": [
  {
   "cell_type": "markdown",
   "metadata": {},
   "source": [
    "# Generate simulated data for Excel report"
   ]
  },
  {
   "cell_type": "code",
   "execution_count": 1,
   "metadata": {},
   "outputs": [],
   "source": [
    "import pandas as pd\n",
    "import numpy as np\n",
    "import os\n",
    "import matplotlib.pyplot as plt\n",
    "from collections import OrderedDict\n",
    "\n",
    "%matplotlib inline\n",
    "np.random.seed(42)"
   ]
  },
  {
   "cell_type": "code",
   "execution_count": 2,
   "metadata": {},
   "outputs": [],
   "source": [
    "lot_ids = np.arange(0, 1001, 1)"
   ]
  },
  {
   "cell_type": "code",
   "execution_count": 3,
   "metadata": {},
   "outputs": [],
   "source": [
    "sales_ids = np.arange(0, 201, 1)"
   ]
  },
  {
   "cell_type": "code",
   "execution_count": 4,
   "metadata": {},
   "outputs": [],
   "source": [
    "base_date = np.datetime64('2018-01-02').astype('datetime64[s]').astype(int)\n",
    "random_dates = base_date + (np.random.uniform(0, 180, size=10000)*24*3600).astype(int)\n",
    "random_dates = random_dates.astype('datetime64[s]')"
   ]
  },
  {
   "cell_type": "code",
   "execution_count": 5,
   "metadata": {},
   "outputs": [],
   "source": [
    "random_dates.sort()"
   ]
  },
  {
   "cell_type": "code",
   "execution_count": 6,
   "metadata": {},
   "outputs": [
    {
     "data": {
      "text/plain": [
       "array(['2018-01-02T00:03:00', '2018-01-02T00:07:57', '2018-01-02T00:13:41',\n",
       "       ..., '2018-06-30T21:51:44', '2018-06-30T22:05:21',\n",
       "       '2018-06-30T22:46:49'], dtype='datetime64[s]')"
      ]
     },
     "execution_count": 6,
     "metadata": {},
     "output_type": "execute_result"
    }
   ],
   "source": [
    "random_dates"
   ]
  },
  {
   "cell_type": "code",
   "execution_count": 7,
   "metadata": {},
   "outputs": [],
   "source": [
    "sales_ids = np.arange(1, len(random_dates) + 1, 1)"
   ]
  },
  {
   "cell_type": "code",
   "execution_count": 8,
   "metadata": {},
   "outputs": [],
   "source": [
    "remakes = np.random.poisson(lam=1, size=len(random_dates)//2) + 1"
   ]
  },
  {
   "cell_type": "code",
   "execution_count": 9,
   "metadata": {},
   "outputs": [],
   "source": [
    "remakes = np.append(remakes, np.random.poisson(lam=0.75, size=len(random_dates)//2) + 1)"
   ]
  },
  {
   "cell_type": "code",
   "execution_count": 10,
   "metadata": {},
   "outputs": [],
   "source": [
    "lead_times = np.random.standard_normal(len(random_dates))*3600 + 5*3600"
   ]
  },
  {
   "cell_type": "code",
   "execution_count": 11,
   "metadata": {},
   "outputs": [
    {
     "data": {
      "text/plain": [
       "0"
      ]
     },
     "execution_count": 11,
     "metadata": {},
     "output_type": "execute_result"
    }
   ],
   "source": [
    "(lead_times < 0).sum()"
   ]
  },
  {
   "cell_type": "code",
   "execution_count": 12,
   "metadata": {},
   "outputs": [],
   "source": [
    "lead_times = random_dates + lead_times.astype(int)"
   ]
  },
  {
   "cell_type": "code",
   "execution_count": 13,
   "metadata": {},
   "outputs": [],
   "source": [
    "manufacturing_time = ((np.random.standard_normal(len(random_dates)) * 3600 * 10 + 72 * 3600) * (remakes * 0.67)).astype(int)"
   ]
  },
  {
   "cell_type": "code",
   "execution_count": 14,
   "metadata": {},
   "outputs": [],
   "source": [
    "manufacturing_time = lead_times + manufacturing_time"
   ]
  },
  {
   "cell_type": "code",
   "execution_count": 15,
   "metadata": {},
   "outputs": [],
   "source": [
    "shipping_time = (np.random.standard_normal(len(random_dates)) * 3600 + 6 * 3600).astype(int)"
   ]
  },
  {
   "cell_type": "code",
   "execution_count": 16,
   "metadata": {},
   "outputs": [],
   "source": [
    "shipping_time = shipping_time + manufacturing_time"
   ]
  },
  {
   "cell_type": "code",
   "execution_count": 17,
   "metadata": {},
   "outputs": [
    {
     "data": {
      "text/plain": [
       "array(['2018-01-05T18:33:05', '2018-01-04T07:48:33', '2018-01-05T23:37:28',\n",
       "       '2018-01-06T00:56:52', '2018-01-07T20:30:23'], dtype='datetime64[s]')"
      ]
     },
     "execution_count": 17,
     "metadata": {},
     "output_type": "execute_result"
    }
   ],
   "source": [
    "shipping_time[:5]"
   ]
  },
  {
   "cell_type": "code",
   "execution_count": 18,
   "metadata": {},
   "outputs": [],
   "source": [
    "pass_rate = 1 / remakes"
   ]
  },
  {
   "cell_type": "code",
   "execution_count": 19,
   "metadata": {},
   "outputs": [
    {
     "data": {
      "text/plain": [
       "(array([  146.,   507.,  1559.,     0.,  3616.,     0.,     0.,     0.,\n",
       "            0.,  4172.]),\n",
       " array([ 0.14285714,  0.22857143,  0.31428571,  0.4       ,  0.48571429,\n",
       "         0.57142857,  0.65714286,  0.74285714,  0.82857143,  0.91428571,  1.        ]),\n",
       " <a list of 10 Patch objects>)"
      ]
     },
     "execution_count": 19,
     "metadata": {},
     "output_type": "execute_result"
    },
    {
     "data": {
      "image/png": "[encoded data removed]",
      "text/plain": [
       "<matplotlib.figure.Figure at 0x7f169f8d9da0>"
      ]
     },
     "metadata": {},
     "output_type": "display_data"
    }
   ],
   "source": [
    "plt.hist(pass_rate)"
   ]
  },
  {
   "cell_type": "code",
   "execution_count": 20,
   "metadata": {},
   "outputs": [],
   "source": [
    "data = OrderedDict([\n",
    "    ('sales_order_id', sales_ids),\n",
    "    ('sales_order_datetime', random_dates),\n",
    "    ('manufacturing_start_datetime', lead_times),\n",
    "    ('manufacturing_completed_datetime', manufacturing_time),\n",
    "    ('shipped_datetime', shipping_time),\n",
    "    ('remakes', remakes),\n",
    "    ('pass_rate', pass_rate)\n",
    "])\n",
    "df = pd.DataFrame(data)"
   ]
  },
  {
   "cell_type": "code",
   "execution_count": 22,
   "metadata": {},
   "outputs": [
    {
     "data": {
      "text/html": [
       "<div>\n",
       "<style scoped>\n",
       "    .dataframe tbody tr th:only-of-type {\n",
       "        vertical-align: middle;\n",
       "    }\n",
       "\n",
       "    .dataframe tbody tr th {\n",
       "        vertical-align: top;\n",
       "    }\n",
       "\n",
       "    .dataframe thead th {\n",
       "        text-align: right;\n",
       "    }\n",
       "</style>\n",
       "<table border=\"1\" class=\"dataframe\">\n",
       "  <thead>\n",
       "    <tr style=\"text-align: right;\">\n",
       "      <th></th>\n",
       "      <th>sales_order_id</th>\n",
       "      <th>sales_order_datetime</th>\n",
       "      <th>manufacturing_start_datetime</th>\n",
       "      <th>manufacturing_completed_datetime</th>\n",
       "      <th>shipped_datetime</th>\n",
       "      <th>remakes</th>\n",
       "      <th>pass_rate</th>\n",
       "    </tr>\n",
       "  </thead>\n",
       "  <tbody>\n",
       "    <tr>\n",
       "      <th>0</th>\n",
       "      <td>1</td>\n",
       "      <td>2018-01-02 00:03:00</td>\n",
       "      <td>2018-01-02 04:03:13</td>\n",
       "      <td>2018-01-05 11:55:55</td>\n",
       "      <td>2018-01-05 18:33:05</td>\n",
       "      <td>2</td>\n",
       "      <td>0.50</td>\n",
       "    </tr>\n",
       "    <tr>\n",
       "      <th>1</th>\n",
       "      <td>2</td>\n",
       "      <td>2018-01-02 00:07:57</td>\n",
       "      <td>2018-01-02 05:23:50</td>\n",
       "      <td>2018-01-04 01:12:23</td>\n",
       "      <td>2018-01-04 07:48:33</td>\n",
       "      <td>1</td>\n",
       "      <td>1.00</td>\n",
       "    </tr>\n",
       "    <tr>\n",
       "      <th>2</th>\n",
       "      <td>3</td>\n",
       "      <td>2018-01-02 00:13:41</td>\n",
       "      <td>2018-01-02 05:55:26</td>\n",
       "      <td>2018-01-05 18:23:12</td>\n",
       "      <td>2018-01-05 23:37:28</td>\n",
       "      <td>2</td>\n",
       "      <td>0.50</td>\n",
       "    </tr>\n",
       "    <tr>\n",
       "      <th>3</th>\n",
       "      <td>4</td>\n",
       "      <td>2018-01-02 00:34:54</td>\n",
       "      <td>2018-01-02 07:07:35</td>\n",
       "      <td>2018-01-05 19:54:56</td>\n",
       "      <td>2018-01-06 00:56:52</td>\n",
       "      <td>2</td>\n",
       "      <td>0.50</td>\n",
       "    </tr>\n",
       "    <tr>\n",
       "      <th>4</th>\n",
       "      <td>5</td>\n",
       "      <td>2018-01-02 00:58:50</td>\n",
       "      <td>2018-01-02 07:55:42</td>\n",
       "      <td>2018-01-07 14:50:45</td>\n",
       "      <td>2018-01-07 20:30:23</td>\n",
       "      <td>4</td>\n",
       "      <td>0.25</td>\n",
       "    </tr>\n",
       "  </tbody>\n",
       "</table>\n",
       "</div>"
      ],
      "text/plain": [
       "   sales_order_id sales_order_datetime manufacturing_start_datetime  \\\n",
       "0               1  2018-01-02 00:03:00          2018-01-02 04:03:13   \n",
       "1               2  2018-01-02 00:07:57          2018-01-02 05:23:50   \n",
       "2               3  2018-01-02 00:13:41          2018-01-02 05:55:26   \n",
       "3               4  2018-01-02 00:34:54          2018-01-02 07:07:35   \n",
       "4               5  2018-01-02 00:58:50          2018-01-02 07:55:42   \n",
       "\n",
       "  manufacturing_completed_datetime    shipped_datetime  remakes  pass_rate  \n",
       "0              2018-01-05 11:55:55 2018-01-05 18:33:05        2       0.50  \n",
       "1              2018-01-04 01:12:23 2018-01-04 07:48:33        1       1.00  \n",
       "2              2018-01-05 18:23:12 2018-01-05 23:37:28        2       0.50  \n",
       "3              2018-01-05 19:54:56 2018-01-06 00:56:52        2       0.50  \n",
       "4              2018-01-07 14:50:45 2018-01-07 20:30:23        4       0.25  "
      ]
     },
     "execution_count": 22,
     "metadata": {},
     "output_type": "execute_result"
    }
   ],
   "source": [
    "df.head()"
   ]
  },
  {
   "cell_type": "code",
   "execution_count": 23,
   "metadata": {},
   "outputs": [
    {
     "data": {
      "text/html": [
       "<div>\n",
       "<style scoped>\n",
       "    .dataframe tbody tr th:only-of-type {\n",
       "        vertical-align: middle;\n",
       "    }\n",
       "\n",
       "    .dataframe tbody tr th {\n",
       "        vertical-align: top;\n",
       "    }\n",
       "\n",
       "    .dataframe thead th {\n",
       "        text-align: right;\n",
       "    }\n",
       "</style>\n",
       "<table border=\"1\" class=\"dataframe\">\n",
       "  <thead>\n",
       "    <tr style=\"text-align: right;\">\n",
       "      <th></th>\n",
       "      <th>sales_order_id</th>\n",
       "      <th>sales_order_datetime</th>\n",
       "      <th>manufacturing_start_datetime</th>\n",
       "      <th>manufacturing_completed_datetime</th>\n",
       "      <th>shipped_datetime</th>\n",
       "      <th>remakes</th>\n",
       "      <th>pass_rate</th>\n",
       "    </tr>\n",
       "  </thead>\n",
       "  <tbody>\n",
       "    <tr>\n",
       "      <th>9995</th>\n",
       "      <td>9996</td>\n",
       "      <td>2018-06-30 21:28:02</td>\n",
       "      <td>2018-07-01 02:51:25</td>\n",
       "      <td>2018-07-02 20:41:56</td>\n",
       "      <td>2018-07-03 02:48:24</td>\n",
       "      <td>1</td>\n",
       "      <td>1.0</td>\n",
       "    </tr>\n",
       "    <tr>\n",
       "      <th>9996</th>\n",
       "      <td>9997</td>\n",
       "      <td>2018-06-30 21:40:12</td>\n",
       "      <td>2018-07-01 00:51:33</td>\n",
       "      <td>2018-07-03 04:01:33</td>\n",
       "      <td>2018-07-03 08:31:06</td>\n",
       "      <td>1</td>\n",
       "      <td>1.0</td>\n",
       "    </tr>\n",
       "    <tr>\n",
       "      <th>9997</th>\n",
       "      <td>9998</td>\n",
       "      <td>2018-06-30 21:51:44</td>\n",
       "      <td>2018-07-01 04:25:57</td>\n",
       "      <td>2018-07-05 05:10:50</td>\n",
       "      <td>2018-07-05 12:00:57</td>\n",
       "      <td>2</td>\n",
       "      <td>0.5</td>\n",
       "    </tr>\n",
       "    <tr>\n",
       "      <th>9998</th>\n",
       "      <td>9999</td>\n",
       "      <td>2018-06-30 22:05:21</td>\n",
       "      <td>2018-07-01 02:00:07</td>\n",
       "      <td>2018-07-03 15:38:11</td>\n",
       "      <td>2018-07-03 21:41:56</td>\n",
       "      <td>1</td>\n",
       "      <td>1.0</td>\n",
       "    </tr>\n",
       "    <tr>\n",
       "      <th>9999</th>\n",
       "      <td>10000</td>\n",
       "      <td>2018-06-30 22:46:49</td>\n",
       "      <td>2018-07-01 02:49:09</td>\n",
       "      <td>2018-07-08 11:38:38</td>\n",
       "      <td>2018-07-08 17:31:10</td>\n",
       "      <td>5</td>\n",
       "      <td>0.2</td>\n",
       "    </tr>\n",
       "  </tbody>\n",
       "</table>\n",
       "</div>"
      ],
      "text/plain": [
       "      sales_order_id sales_order_datetime manufacturing_start_datetime  \\\n",
       "9995            9996  2018-06-30 21:28:02          2018-07-01 02:51:25   \n",
       "9996            9997  2018-06-30 21:40:12          2018-07-01 00:51:33   \n",
       "9997            9998  2018-06-30 21:51:44          2018-07-01 04:25:57   \n",
       "9998            9999  2018-06-30 22:05:21          2018-07-01 02:00:07   \n",
       "9999           10000  2018-06-30 22:46:49          2018-07-01 02:49:09   \n",
       "\n",
       "     manufacturing_completed_datetime    shipped_datetime  remakes  pass_rate  \n",
       "9995              2018-07-02 20:41:56 2018-07-03 02:48:24        1        1.0  \n",
       "9996              2018-07-03 04:01:33 2018-07-03 08:31:06        1        1.0  \n",
       "9997              2018-07-05 05:10:50 2018-07-05 12:00:57        2        0.5  \n",
       "9998              2018-07-03 15:38:11 2018-07-03 21:41:56        1        1.0  \n",
       "9999              2018-07-08 11:38:38 2018-07-08 17:31:10        5        0.2  "
      ]
     },
     "execution_count": 23,
     "metadata": {},
     "output_type": "execute_result"
    }
   ],
   "source": [
    "df.tail()"
   ]
  },
  {
   "cell_type": "code",
   "execution_count": 24,
   "metadata": {},
   "outputs": [],
   "source": [
    "df.to_csv('manufacturing_data.csv', index=False)"
   ]
  },
  {
   "cell_type": "code",
   "execution_count": null,
   "metadata": {},
   "outputs": [],
   "source": []
  }
 ],
 "metadata": {
  "kernelspec": {
   "display_name": "Python 3",
   "language": "python",
   "name": "python3"
  },
  "language_info": {
   "codemirror_mode": {
    "name": "ipython",
    "version": 3
   },
   "file_extension": ".py",
   "mimetype": "text/x-python",
   "name": "python",
   "nbconvert_exporter": "python",
   "pygments_lexer": "ipython3",
   "version": "3.6.3"
  }
 },
 "nbformat": 4,
 "nbformat_minor": 2
}
